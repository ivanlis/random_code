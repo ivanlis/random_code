{
 "cells": [
  {
   "cell_type": "markdown",
   "metadata": {},
   "source": [
    "###### Runout estimation based on pitch points measurement"
   ]
  },
  {
   "cell_type": "markdown",
   "metadata": {},
   "source": [
    "To get started, we import the necessary packages:"
   ]
  },
  {
   "cell_type": "code",
   "execution_count": 1,
   "metadata": {},
   "outputs": [],
   "source": [
    "import pandas as pd\n",
    "import numpy as np\n",
    "import seaborn as sns\n",
    "sns.set(style=\"whitegrid\")\n",
    "import matplotlib.pyplot as plt\n",
    "%matplotlib inline\n",
    "import os\n",
    "import re"
   ]
  },
  {
   "cell_type": "markdown",
   "metadata": {},
   "source": [
    "### Importing and preparing the data"
   ]
  },
  {
   "cell_type": "markdown",
   "metadata": {},
   "source": [
    "In this section we load the text files containing the x and y coordinates of the pitch points. We have two such files, one for the left flank and another for the right one."
   ]
  },
  {
   "cell_type": "code",
   "execution_count": 2,
   "metadata": {},
   "outputs": [],
   "source": [
    "#basePath = \"D:\\\\development\\\\m3_stuff\\\\m3_traditional2\\\\M3\\\\branches\\\\M3Hybrid64\\\\m3\\\\M3\\\\data\\\\ggfx\"\n",
    "basePath = \"/home/ivan/tools/python_venv/python382/work/runout/data\""
   ]
  },
  {
   "cell_type": "code",
   "execution_count": 3,
   "metadata": {},
   "outputs": [],
   "source": [
    "pitchActualLeft = pd.read_csv(os.path.join(basePath, \"actual_pitch_left.txt\"), delimiter=',', header=None,\n",
    "                             names=('x', 'y'), index_col=0)"
   ]
  },
  {
   "cell_type": "code",
   "execution_count": 4,
   "metadata": {},
   "outputs": [],
   "source": [
    "pitchActualLeft['source'] = 'actual'\n",
    "pitchActualLeft['side'] = 'left'"
   ]
  },
  {
   "cell_type": "code",
   "execution_count": 5,
   "metadata": {},
   "outputs": [
    {
     "data": {
      "text/html": [
       "<div>\n",
       "<style scoped>\n",
       "    .dataframe tbody tr th:only-of-type {\n",
       "        vertical-align: middle;\n",
       "    }\n",
       "\n",
       "    .dataframe tbody tr th {\n",
       "        vertical-align: top;\n",
       "    }\n",
       "\n",
       "    .dataframe thead th {\n",
       "        text-align: right;\n",
       "    }\n",
       "</style>\n",
       "<table border=\"1\" class=\"dataframe\">\n",
       "  <thead>\n",
       "    <tr style=\"text-align: right;\">\n",
       "      <th></th>\n",
       "      <th>x</th>\n",
       "      <th>y</th>\n",
       "      <th>source</th>\n",
       "      <th>side</th>\n",
       "    </tr>\n",
       "  </thead>\n",
       "  <tbody>\n",
       "    <tr>\n",
       "      <th>0</th>\n",
       "      <td>32.505200</td>\n",
       "      <td>5.69354</td>\n",
       "      <td>actual</td>\n",
       "      <td>left</td>\n",
       "    </tr>\n",
       "    <tr>\n",
       "      <th>1</th>\n",
       "      <td>24.240000</td>\n",
       "      <td>22.39260</td>\n",
       "      <td>actual</td>\n",
       "      <td>left</td>\n",
       "    </tr>\n",
       "    <tr>\n",
       "      <th>2</th>\n",
       "      <td>8.259210</td>\n",
       "      <td>31.95000</td>\n",
       "      <td>actual</td>\n",
       "      <td>left</td>\n",
       "    </tr>\n",
       "    <tr>\n",
       "      <th>3</th>\n",
       "      <td>-10.348800</td>\n",
       "      <td>31.33570</td>\n",
       "      <td>actual</td>\n",
       "      <td>left</td>\n",
       "    </tr>\n",
       "    <tr>\n",
       "      <th>4</th>\n",
       "      <td>-25.649500</td>\n",
       "      <td>20.76350</td>\n",
       "      <td>actual</td>\n",
       "      <td>left</td>\n",
       "    </tr>\n",
       "    <tr>\n",
       "      <th>5</th>\n",
       "      <td>-32.801200</td>\n",
       "      <td>3.61956</td>\n",
       "      <td>actual</td>\n",
       "      <td>left</td>\n",
       "    </tr>\n",
       "    <tr>\n",
       "      <th>6</th>\n",
       "      <td>-29.561900</td>\n",
       "      <td>-14.66650</td>\n",
       "      <td>actual</td>\n",
       "      <td>left</td>\n",
       "    </tr>\n",
       "    <tr>\n",
       "      <th>7</th>\n",
       "      <td>-16.971400</td>\n",
       "      <td>-28.30150</td>\n",
       "      <td>actual</td>\n",
       "      <td>left</td>\n",
       "    </tr>\n",
       "    <tr>\n",
       "      <th>8</th>\n",
       "      <td>0.991406</td>\n",
       "      <td>-32.98510</td>\n",
       "      <td>actual</td>\n",
       "      <td>left</td>\n",
       "    </tr>\n",
       "    <tr>\n",
       "      <th>9</th>\n",
       "      <td>18.657800</td>\n",
       "      <td>-27.21920</td>\n",
       "      <td>actual</td>\n",
       "      <td>left</td>\n",
       "    </tr>\n",
       "    <tr>\n",
       "      <th>10</th>\n",
       "      <td>30.414200</td>\n",
       "      <td>-12.80530</td>\n",
       "      <td>actual</td>\n",
       "      <td>left</td>\n",
       "    </tr>\n",
       "  </tbody>\n",
       "</table>\n",
       "</div>"
      ],
      "text/plain": [
       "            x         y  source  side\n",
       "0   32.505200   5.69354  actual  left\n",
       "1   24.240000  22.39260  actual  left\n",
       "2    8.259210  31.95000  actual  left\n",
       "3  -10.348800  31.33570  actual  left\n",
       "4  -25.649500  20.76350  actual  left\n",
       "5  -32.801200   3.61956  actual  left\n",
       "6  -29.561900 -14.66650  actual  left\n",
       "7  -16.971400 -28.30150  actual  left\n",
       "8    0.991406 -32.98510  actual  left\n",
       "9   18.657800 -27.21920  actual  left\n",
       "10  30.414200 -12.80530  actual  left"
      ]
     },
     "execution_count": 5,
     "metadata": {},
     "output_type": "execute_result"
    }
   ],
   "source": [
    "pitchActualLeft"
   ]
  },
  {
   "cell_type": "code",
   "execution_count": 6,
   "metadata": {},
   "outputs": [],
   "source": [
    "pitchActualRight = pd.read_csv(os.path.join(basePath, \"actual_pitch_right.txt\"), delimiter=',', header=None,\n",
    "                             names=('x', 'y'), index_col=0)"
   ]
  },
  {
   "cell_type": "code",
   "execution_count": 7,
   "metadata": {},
   "outputs": [],
   "source": [
    "pitchActualRight['source'] = 'actual'\n",
    "pitchActualRight['side'] = 'right'"
   ]
  },
  {
   "cell_type": "code",
   "execution_count": 8,
   "metadata": {},
   "outputs": [
    {
     "data": {
      "text/html": [
       "<div>\n",
       "<style scoped>\n",
       "    .dataframe tbody tr th:only-of-type {\n",
       "        vertical-align: middle;\n",
       "    }\n",
       "\n",
       "    .dataframe tbody tr th {\n",
       "        vertical-align: top;\n",
       "    }\n",
       "\n",
       "    .dataframe thead th {\n",
       "        text-align: right;\n",
       "    }\n",
       "</style>\n",
       "<table border=\"1\" class=\"dataframe\">\n",
       "  <thead>\n",
       "    <tr style=\"text-align: right;\">\n",
       "      <th></th>\n",
       "      <th>x</th>\n",
       "      <th>y</th>\n",
       "      <th>source</th>\n",
       "      <th>side</th>\n",
       "    </tr>\n",
       "  </thead>\n",
       "  <tbody>\n",
       "    <tr>\n",
       "      <th>0</th>\n",
       "      <td>32.50220</td>\n",
       "      <td>-5.71058</td>\n",
       "      <td>actual</td>\n",
       "      <td>right</td>\n",
       "    </tr>\n",
       "    <tr>\n",
       "      <th>1</th>\n",
       "      <td>30.41520</td>\n",
       "      <td>12.80290</td>\n",
       "      <td>actual</td>\n",
       "      <td>right</td>\n",
       "    </tr>\n",
       "    <tr>\n",
       "      <th>2</th>\n",
       "      <td>18.64890</td>\n",
       "      <td>27.22530</td>\n",
       "      <td>actual</td>\n",
       "      <td>right</td>\n",
       "    </tr>\n",
       "    <tr>\n",
       "      <th>3</th>\n",
       "      <td>0.96078</td>\n",
       "      <td>32.98600</td>\n",
       "      <td>actual</td>\n",
       "      <td>right</td>\n",
       "    </tr>\n",
       "    <tr>\n",
       "      <th>4</th>\n",
       "      <td>-17.01670</td>\n",
       "      <td>28.27420</td>\n",
       "      <td>actual</td>\n",
       "      <td>right</td>\n",
       "    </tr>\n",
       "    <tr>\n",
       "      <th>5</th>\n",
       "      <td>-29.58690</td>\n",
       "      <td>14.61570</td>\n",
       "      <td>actual</td>\n",
       "      <td>right</td>\n",
       "    </tr>\n",
       "    <tr>\n",
       "      <th>6</th>\n",
       "      <td>-32.79630</td>\n",
       "      <td>-3.66165</td>\n",
       "      <td>actual</td>\n",
       "      <td>right</td>\n",
       "    </tr>\n",
       "    <tr>\n",
       "      <th>7</th>\n",
       "      <td>-25.62710</td>\n",
       "      <td>-20.79090</td>\n",
       "      <td>actual</td>\n",
       "      <td>right</td>\n",
       "    </tr>\n",
       "    <tr>\n",
       "      <th>8</th>\n",
       "      <td>-10.34070</td>\n",
       "      <td>-31.33830</td>\n",
       "      <td>actual</td>\n",
       "      <td>right</td>\n",
       "    </tr>\n",
       "    <tr>\n",
       "      <th>9</th>\n",
       "      <td>8.25335</td>\n",
       "      <td>-31.95150</td>\n",
       "      <td>actual</td>\n",
       "      <td>right</td>\n",
       "    </tr>\n",
       "    <tr>\n",
       "      <th>10</th>\n",
       "      <td>24.23100</td>\n",
       "      <td>-22.40250</td>\n",
       "      <td>actual</td>\n",
       "      <td>right</td>\n",
       "    </tr>\n",
       "  </tbody>\n",
       "</table>\n",
       "</div>"
      ],
      "text/plain": [
       "           x         y  source   side\n",
       "0   32.50220  -5.71058  actual  right\n",
       "1   30.41520  12.80290  actual  right\n",
       "2   18.64890  27.22530  actual  right\n",
       "3    0.96078  32.98600  actual  right\n",
       "4  -17.01670  28.27420  actual  right\n",
       "5  -29.58690  14.61570  actual  right\n",
       "6  -32.79630  -3.66165  actual  right\n",
       "7  -25.62710 -20.79090  actual  right\n",
       "8  -10.34070 -31.33830  actual  right\n",
       "9    8.25335 -31.95150  actual  right\n",
       "10  24.23100 -22.40250  actual  right"
      ]
     },
     "execution_count": 8,
     "metadata": {},
     "output_type": "execute_result"
    }
   ],
   "source": [
    "pitchActualRight"
   ]
  },
  {
   "cell_type": "markdown",
   "metadata": {},
   "source": [
    "Here we merge the data for both flanks. The 'side' field will be used to distinguish between them in the merged dataset."
   ]
  },
  {
   "cell_type": "code",
   "execution_count": 9,
   "metadata": {},
   "outputs": [],
   "source": [
    "pitchActual = pd.concat((pitchActualLeft, pitchActualRight), sort=False).reset_index(drop=True)"
   ]
  },
  {
   "cell_type": "code",
   "execution_count": 10,
   "metadata": {},
   "outputs": [
    {
     "data": {
      "text/html": [
       "<div>\n",
       "<style scoped>\n",
       "    .dataframe tbody tr th:only-of-type {\n",
       "        vertical-align: middle;\n",
       "    }\n",
       "\n",
       "    .dataframe tbody tr th {\n",
       "        vertical-align: top;\n",
       "    }\n",
       "\n",
       "    .dataframe thead th {\n",
       "        text-align: right;\n",
       "    }\n",
       "</style>\n",
       "<table border=\"1\" class=\"dataframe\">\n",
       "  <thead>\n",
       "    <tr style=\"text-align: right;\">\n",
       "      <th></th>\n",
       "      <th>x</th>\n",
       "      <th>y</th>\n",
       "      <th>source</th>\n",
       "      <th>side</th>\n",
       "    </tr>\n",
       "  </thead>\n",
       "  <tbody>\n",
       "    <tr>\n",
       "      <th>0</th>\n",
       "      <td>32.505200</td>\n",
       "      <td>5.69354</td>\n",
       "      <td>actual</td>\n",
       "      <td>left</td>\n",
       "    </tr>\n",
       "    <tr>\n",
       "      <th>1</th>\n",
       "      <td>24.240000</td>\n",
       "      <td>22.39260</td>\n",
       "      <td>actual</td>\n",
       "      <td>left</td>\n",
       "    </tr>\n",
       "    <tr>\n",
       "      <th>2</th>\n",
       "      <td>8.259210</td>\n",
       "      <td>31.95000</td>\n",
       "      <td>actual</td>\n",
       "      <td>left</td>\n",
       "    </tr>\n",
       "    <tr>\n",
       "      <th>3</th>\n",
       "      <td>-10.348800</td>\n",
       "      <td>31.33570</td>\n",
       "      <td>actual</td>\n",
       "      <td>left</td>\n",
       "    </tr>\n",
       "    <tr>\n",
       "      <th>4</th>\n",
       "      <td>-25.649500</td>\n",
       "      <td>20.76350</td>\n",
       "      <td>actual</td>\n",
       "      <td>left</td>\n",
       "    </tr>\n",
       "    <tr>\n",
       "      <th>5</th>\n",
       "      <td>-32.801200</td>\n",
       "      <td>3.61956</td>\n",
       "      <td>actual</td>\n",
       "      <td>left</td>\n",
       "    </tr>\n",
       "    <tr>\n",
       "      <th>6</th>\n",
       "      <td>-29.561900</td>\n",
       "      <td>-14.66650</td>\n",
       "      <td>actual</td>\n",
       "      <td>left</td>\n",
       "    </tr>\n",
       "    <tr>\n",
       "      <th>7</th>\n",
       "      <td>-16.971400</td>\n",
       "      <td>-28.30150</td>\n",
       "      <td>actual</td>\n",
       "      <td>left</td>\n",
       "    </tr>\n",
       "    <tr>\n",
       "      <th>8</th>\n",
       "      <td>0.991406</td>\n",
       "      <td>-32.98510</td>\n",
       "      <td>actual</td>\n",
       "      <td>left</td>\n",
       "    </tr>\n",
       "    <tr>\n",
       "      <th>9</th>\n",
       "      <td>18.657800</td>\n",
       "      <td>-27.21920</td>\n",
       "      <td>actual</td>\n",
       "      <td>left</td>\n",
       "    </tr>\n",
       "    <tr>\n",
       "      <th>10</th>\n",
       "      <td>30.414200</td>\n",
       "      <td>-12.80530</td>\n",
       "      <td>actual</td>\n",
       "      <td>left</td>\n",
       "    </tr>\n",
       "    <tr>\n",
       "      <th>11</th>\n",
       "      <td>32.502200</td>\n",
       "      <td>-5.71058</td>\n",
       "      <td>actual</td>\n",
       "      <td>right</td>\n",
       "    </tr>\n",
       "    <tr>\n",
       "      <th>12</th>\n",
       "      <td>30.415200</td>\n",
       "      <td>12.80290</td>\n",
       "      <td>actual</td>\n",
       "      <td>right</td>\n",
       "    </tr>\n",
       "    <tr>\n",
       "      <th>13</th>\n",
       "      <td>18.648900</td>\n",
       "      <td>27.22530</td>\n",
       "      <td>actual</td>\n",
       "      <td>right</td>\n",
       "    </tr>\n",
       "    <tr>\n",
       "      <th>14</th>\n",
       "      <td>0.960780</td>\n",
       "      <td>32.98600</td>\n",
       "      <td>actual</td>\n",
       "      <td>right</td>\n",
       "    </tr>\n",
       "    <tr>\n",
       "      <th>15</th>\n",
       "      <td>-17.016700</td>\n",
       "      <td>28.27420</td>\n",
       "      <td>actual</td>\n",
       "      <td>right</td>\n",
       "    </tr>\n",
       "    <tr>\n",
       "      <th>16</th>\n",
       "      <td>-29.586900</td>\n",
       "      <td>14.61570</td>\n",
       "      <td>actual</td>\n",
       "      <td>right</td>\n",
       "    </tr>\n",
       "    <tr>\n",
       "      <th>17</th>\n",
       "      <td>-32.796300</td>\n",
       "      <td>-3.66165</td>\n",
       "      <td>actual</td>\n",
       "      <td>right</td>\n",
       "    </tr>\n",
       "    <tr>\n",
       "      <th>18</th>\n",
       "      <td>-25.627100</td>\n",
       "      <td>-20.79090</td>\n",
       "      <td>actual</td>\n",
       "      <td>right</td>\n",
       "    </tr>\n",
       "    <tr>\n",
       "      <th>19</th>\n",
       "      <td>-10.340700</td>\n",
       "      <td>-31.33830</td>\n",
       "      <td>actual</td>\n",
       "      <td>right</td>\n",
       "    </tr>\n",
       "    <tr>\n",
       "      <th>20</th>\n",
       "      <td>8.253350</td>\n",
       "      <td>-31.95150</td>\n",
       "      <td>actual</td>\n",
       "      <td>right</td>\n",
       "    </tr>\n",
       "    <tr>\n",
       "      <th>21</th>\n",
       "      <td>24.231000</td>\n",
       "      <td>-22.40250</td>\n",
       "      <td>actual</td>\n",
       "      <td>right</td>\n",
       "    </tr>\n",
       "  </tbody>\n",
       "</table>\n",
       "</div>"
      ],
      "text/plain": [
       "            x         y  source   side\n",
       "0   32.505200   5.69354  actual   left\n",
       "1   24.240000  22.39260  actual   left\n",
       "2    8.259210  31.95000  actual   left\n",
       "3  -10.348800  31.33570  actual   left\n",
       "4  -25.649500  20.76350  actual   left\n",
       "5  -32.801200   3.61956  actual   left\n",
       "6  -29.561900 -14.66650  actual   left\n",
       "7  -16.971400 -28.30150  actual   left\n",
       "8    0.991406 -32.98510  actual   left\n",
       "9   18.657800 -27.21920  actual   left\n",
       "10  30.414200 -12.80530  actual   left\n",
       "11  32.502200  -5.71058  actual  right\n",
       "12  30.415200  12.80290  actual  right\n",
       "13  18.648900  27.22530  actual  right\n",
       "14   0.960780  32.98600  actual  right\n",
       "15 -17.016700  28.27420  actual  right\n",
       "16 -29.586900  14.61570  actual  right\n",
       "17 -32.796300  -3.66165  actual  right\n",
       "18 -25.627100 -20.79090  actual  right\n",
       "19 -10.340700 -31.33830  actual  right\n",
       "20   8.253350 -31.95150  actual  right\n",
       "21  24.231000 -22.40250  actual  right"
      ]
     },
     "execution_count": 10,
     "metadata": {},
     "output_type": "execute_result"
    }
   ],
   "source": [
    "pitchActual"
   ]
  },
  {
   "cell_type": "markdown",
   "metadata": {},
   "source": [
    "This function is going to be used to compute the polar coordinates of the pitch points and enrich the input data with them:"
   ]
  },
  {
   "cell_type": "code",
   "execution_count": 11,
   "metadata": {},
   "outputs": [],
   "source": [
    "def computePolar(frame):\n",
    "    frame['angle'] = np.arctan2(frame['y'], frame['x']) + 2 * np.pi\n",
    "    frame.loc[frame['angle'] >= 2 * np.pi, 'angle'] = frame.loc[frame['angle'] >= 2 * np.pi, \n",
    "                                                                                         'angle'] - 2 * np.pi\n",
    "    frame['distance'] = np.sqrt(frame['x'] ** 2 + frame['y'] ** 2)\n",
    "    return frame"
   ]
  },
  {
   "cell_type": "code",
   "execution_count": 12,
   "metadata": {},
   "outputs": [],
   "source": [
    "pitchActual = computePolar(pitchActual)"
   ]
  },
  {
   "cell_type": "code",
   "execution_count": 13,
   "metadata": {},
   "outputs": [
    {
     "data": {
      "text/html": [
       "<div>\n",
       "<style scoped>\n",
       "    .dataframe tbody tr th:only-of-type {\n",
       "        vertical-align: middle;\n",
       "    }\n",
       "\n",
       "    .dataframe tbody tr th {\n",
       "        vertical-align: top;\n",
       "    }\n",
       "\n",
       "    .dataframe thead th {\n",
       "        text-align: right;\n",
       "    }\n",
       "</style>\n",
       "<table border=\"1\" class=\"dataframe\">\n",
       "  <thead>\n",
       "    <tr style=\"text-align: right;\">\n",
       "      <th></th>\n",
       "      <th>x</th>\n",
       "      <th>y</th>\n",
       "      <th>source</th>\n",
       "      <th>side</th>\n",
       "      <th>angle</th>\n",
       "      <th>distance</th>\n",
       "    </tr>\n",
       "  </thead>\n",
       "  <tbody>\n",
       "    <tr>\n",
       "      <th>0</th>\n",
       "      <td>32.505200</td>\n",
       "      <td>5.69354</td>\n",
       "      <td>actual</td>\n",
       "      <td>left</td>\n",
       "      <td>0.173399</td>\n",
       "      <td>33.000067</td>\n",
       "    </tr>\n",
       "    <tr>\n",
       "      <th>1</th>\n",
       "      <td>24.240000</td>\n",
       "      <td>22.39260</td>\n",
       "      <td>actual</td>\n",
       "      <td>left</td>\n",
       "      <td>0.745803</td>\n",
       "      <td>33.000093</td>\n",
       "    </tr>\n",
       "    <tr>\n",
       "      <th>2</th>\n",
       "      <td>8.259210</td>\n",
       "      <td>31.95000</td>\n",
       "      <td>actual</td>\n",
       "      <td>left</td>\n",
       "      <td>1.317830</td>\n",
       "      <td>33.000258</td>\n",
       "    </tr>\n",
       "    <tr>\n",
       "      <th>3</th>\n",
       "      <td>-10.348800</td>\n",
       "      <td>31.33570</td>\n",
       "      <td>actual</td>\n",
       "      <td>left</td>\n",
       "      <td>1.889775</td>\n",
       "      <td>33.000360</td>\n",
       "    </tr>\n",
       "    <tr>\n",
       "      <th>4</th>\n",
       "      <td>-25.649500</td>\n",
       "      <td>20.76350</td>\n",
       "      <td>actual</td>\n",
       "      <td>left</td>\n",
       "      <td>2.461080</td>\n",
       "      <td>33.000300</td>\n",
       "    </tr>\n",
       "    <tr>\n",
       "      <th>5</th>\n",
       "      <td>-32.801200</td>\n",
       "      <td>3.61956</td>\n",
       "      <td>actual</td>\n",
       "      <td>left</td>\n",
       "      <td>3.031689</td>\n",
       "      <td>33.000302</td>\n",
       "    </tr>\n",
       "    <tr>\n",
       "      <th>6</th>\n",
       "      <td>-29.561900</td>\n",
       "      <td>-14.66650</td>\n",
       "      <td>actual</td>\n",
       "      <td>left</td>\n",
       "      <td>3.602138</td>\n",
       "      <td>33.000184</td>\n",
       "    </tr>\n",
       "    <tr>\n",
       "      <th>7</th>\n",
       "      <td>-16.971400</td>\n",
       "      <td>-28.30150</td>\n",
       "      <td>actual</td>\n",
       "      <td>left</td>\n",
       "      <td>4.172216</td>\n",
       "      <td>33.000050</td>\n",
       "    </tr>\n",
       "    <tr>\n",
       "      <th>8</th>\n",
       "      <td>0.991406</td>\n",
       "      <td>-32.98510</td>\n",
       "      <td>actual</td>\n",
       "      <td>left</td>\n",
       "      <td>4.742436</td>\n",
       "      <td>32.999996</td>\n",
       "    </tr>\n",
       "    <tr>\n",
       "      <th>9</th>\n",
       "      <td>18.657800</td>\n",
       "      <td>-27.21920</td>\n",
       "      <td>actual</td>\n",
       "      <td>left</td>\n",
       "      <td>5.313293</td>\n",
       "      <td>32.999975</td>\n",
       "    </tr>\n",
       "    <tr>\n",
       "      <th>10</th>\n",
       "      <td>30.414200</td>\n",
       "      <td>-12.80530</td>\n",
       "      <td>actual</td>\n",
       "      <td>left</td>\n",
       "      <td>5.884682</td>\n",
       "      <td>32.999989</td>\n",
       "    </tr>\n",
       "    <tr>\n",
       "      <th>11</th>\n",
       "      <td>32.502200</td>\n",
       "      <td>-5.71058</td>\n",
       "      <td>actual</td>\n",
       "      <td>right</td>\n",
       "      <td>6.109262</td>\n",
       "      <td>33.000056</td>\n",
       "    </tr>\n",
       "    <tr>\n",
       "      <th>12</th>\n",
       "      <td>30.415200</td>\n",
       "      <td>12.80290</td>\n",
       "      <td>actual</td>\n",
       "      <td>right</td>\n",
       "      <td>0.398425</td>\n",
       "      <td>32.999979</td>\n",
       "    </tr>\n",
       "    <tr>\n",
       "      <th>13</th>\n",
       "      <td>18.648900</td>\n",
       "      <td>27.22530</td>\n",
       "      <td>actual</td>\n",
       "      <td>right</td>\n",
       "      <td>0.970219</td>\n",
       "      <td>32.999976</td>\n",
       "    </tr>\n",
       "    <tr>\n",
       "      <th>14</th>\n",
       "      <td>0.960780</td>\n",
       "      <td>32.98600</td>\n",
       "      <td>actual</td>\n",
       "      <td>right</td>\n",
       "      <td>1.541678</td>\n",
       "      <td>32.999989</td>\n",
       "    </tr>\n",
       "    <tr>\n",
       "      <th>15</th>\n",
       "      <td>-17.016700</td>\n",
       "      <td>28.27420</td>\n",
       "      <td>actual</td>\n",
       "      <td>right</td>\n",
       "      <td>2.112572</td>\n",
       "      <td>32.999977</td>\n",
       "    </tr>\n",
       "    <tr>\n",
       "      <th>16</th>\n",
       "      <td>-29.586900</td>\n",
       "      <td>14.61570</td>\n",
       "      <td>actual</td>\n",
       "      <td>right</td>\n",
       "      <td>2.682763</td>\n",
       "      <td>33.000051</td>\n",
       "    </tr>\n",
       "    <tr>\n",
       "      <th>17</th>\n",
       "      <td>-32.796300</td>\n",
       "      <td>-3.66165</td>\n",
       "      <td>actual</td>\n",
       "      <td>right</td>\n",
       "      <td>3.252780</td>\n",
       "      <td>33.000075</td>\n",
       "    </tr>\n",
       "    <tr>\n",
       "      <th>18</th>\n",
       "      <td>-25.627100</td>\n",
       "      <td>-20.79090</td>\n",
       "      <td>actual</td>\n",
       "      <td>right</td>\n",
       "      <td>3.823177</td>\n",
       "      <td>33.000148</td>\n",
       "    </tr>\n",
       "    <tr>\n",
       "      <th>19</th>\n",
       "      <td>-10.340700</td>\n",
       "      <td>-31.33830</td>\n",
       "      <td>actual</td>\n",
       "      <td>right</td>\n",
       "      <td>4.393668</td>\n",
       "      <td>33.000290</td>\n",
       "    </tr>\n",
       "    <tr>\n",
       "      <th>20</th>\n",
       "      <td>8.253350</td>\n",
       "      <td>-31.95150</td>\n",
       "      <td>actual</td>\n",
       "      <td>right</td>\n",
       "      <td>4.965172</td>\n",
       "      <td>33.000245</td>\n",
       "    </tr>\n",
       "    <tr>\n",
       "      <th>21</th>\n",
       "      <td>24.231000</td>\n",
       "      <td>-22.40250</td>\n",
       "      <td>actual</td>\n",
       "      <td>right</td>\n",
       "      <td>5.536977</td>\n",
       "      <td>33.000203</td>\n",
       "    </tr>\n",
       "  </tbody>\n",
       "</table>\n",
       "</div>"
      ],
      "text/plain": [
       "            x         y  source   side     angle   distance\n",
       "0   32.505200   5.69354  actual   left  0.173399  33.000067\n",
       "1   24.240000  22.39260  actual   left  0.745803  33.000093\n",
       "2    8.259210  31.95000  actual   left  1.317830  33.000258\n",
       "3  -10.348800  31.33570  actual   left  1.889775  33.000360\n",
       "4  -25.649500  20.76350  actual   left  2.461080  33.000300\n",
       "5  -32.801200   3.61956  actual   left  3.031689  33.000302\n",
       "6  -29.561900 -14.66650  actual   left  3.602138  33.000184\n",
       "7  -16.971400 -28.30150  actual   left  4.172216  33.000050\n",
       "8    0.991406 -32.98510  actual   left  4.742436  32.999996\n",
       "9   18.657800 -27.21920  actual   left  5.313293  32.999975\n",
       "10  30.414200 -12.80530  actual   left  5.884682  32.999989\n",
       "11  32.502200  -5.71058  actual  right  6.109262  33.000056\n",
       "12  30.415200  12.80290  actual  right  0.398425  32.999979\n",
       "13  18.648900  27.22530  actual  right  0.970219  32.999976\n",
       "14   0.960780  32.98600  actual  right  1.541678  32.999989\n",
       "15 -17.016700  28.27420  actual  right  2.112572  32.999977\n",
       "16 -29.586900  14.61570  actual  right  2.682763  33.000051\n",
       "17 -32.796300  -3.66165  actual  right  3.252780  33.000075\n",
       "18 -25.627100 -20.79090  actual  right  3.823177  33.000148\n",
       "19 -10.340700 -31.33830  actual  right  4.393668  33.000290\n",
       "20   8.253350 -31.95150  actual  right  4.965172  33.000245\n",
       "21  24.231000 -22.40250  actual  right  5.536977  33.000203"
      ]
     },
     "execution_count": 13,
     "metadata": {},
     "output_type": "execute_result"
    }
   ],
   "source": [
    "pitchActual"
   ]
  },
  {
   "cell_type": "markdown",
   "metadata": {},
   "source": [
    "Now we read the gear's nominal parameters like module, number of teeth etc."
   ]
  },
  {
   "cell_type": "code",
   "execution_count": 14,
   "metadata": {},
   "outputs": [],
   "source": [
    "nominalParameters = pd.read_csv(os.path.join(basePath, \"nominal_params.txt\"), delimiter=',', header=0)"
   ]
  },
  {
   "cell_type": "code",
   "execution_count": 15,
   "metadata": {},
   "outputs": [],
   "source": [
    "z = nominalParameters['num_teeth'][0]\n",
    "m = nominalParameters['module'][0]\n",
    "alpha = nominalParameters['pressure_angle'][0]\n",
    "x = nominalParameters['add_coef'][0]\n",
    "r = m * z / 2\n",
    "rb = r * np.cos(alpha)"
   ]
  },
  {
   "cell_type": "code",
   "execution_count": 16,
   "metadata": {},
   "outputs": [
    {
     "data": {
      "text/plain": [
       "33.0"
      ]
     },
     "execution_count": 16,
     "metadata": {},
     "output_type": "execute_result"
    }
   ],
   "source": [
    "r"
   ]
  },
  {
   "cell_type": "code",
   "execution_count": 17,
   "metadata": {},
   "outputs": [
    {
     "data": {
      "text/plain": [
       "11"
      ]
     },
     "execution_count": 17,
     "metadata": {},
     "output_type": "execute_result"
    }
   ],
   "source": [
    "z"
   ]
  },
  {
   "cell_type": "code",
   "execution_count": 18,
   "metadata": {},
   "outputs": [
    {
     "data": {
      "text/plain": [
       "array([ 0,  1,  2,  3,  4,  5,  6,  7,  8,  9, 10,  0,  1,  2,  3,  4,  5,\n",
       "        6,  7,  8,  9, 10], dtype=int32)"
      ]
     },
     "execution_count": 18,
     "metadata": {},
     "output_type": "execute_result"
    }
   ],
   "source": [
    "np.mod(np.int32(np.floor_divide(pitchActual['angle'] + np.pi / z, 2 * np.pi / z)), z)"
   ]
  },
  {
   "cell_type": "code",
   "execution_count": 19,
   "metadata": {},
   "outputs": [
    {
     "data": {
      "text/plain": [
       "array([1, 1, 1, 1, 1, 1, 1, 1, 1, 1, 1, 0, 0, 0, 0, 0, 0, 0, 0, 0, 0, 0],\n",
       "      dtype=int32)"
      ]
     },
     "execution_count": 19,
     "metadata": {},
     "output_type": "execute_result"
    }
   ],
   "source": [
    "np.mod(np.mod(np.int32(np.floor_divide(pitchActual['angle'] + np.pi / z, np.pi / z)), 2 * z), 2)"
   ]
  },
  {
   "cell_type": "markdown",
   "metadata": {},
   "source": [
    "The purpose of the following function is to compute the tooth every point belongs to, as well as to confirm the flank side. TODO: error if the input side label and its computed counterpart do not match."
   ]
  },
  {
   "cell_type": "code",
   "execution_count": 20,
   "metadata": {},
   "outputs": [],
   "source": [
    "def computeToothIdAndSide(frame):\n",
    "    frame['computed_tooth_id'] = np.mod(np.int32(np.floor_divide(frame['angle'] + np.pi / z, 2 * np.pi / z)), z)\n",
    "    np.mod(np.int32(np.floor_divide(frame['angle'] + np.pi / z, 2 * np.pi / z)), z)\n",
    "    sideIndicator = np.mod(np.mod(np.int32(np.floor_divide(frame['angle'] + np.pi / z, np.pi / z)), 2 * z), 2)\n",
    "    frame['computed_side'] = 'right'\n",
    "    frame.loc[sideIndicator > 0, 'computed_side'] = 'left'\n",
    "    return frame"
   ]
  },
  {
   "cell_type": "code",
   "execution_count": 21,
   "metadata": {},
   "outputs": [],
   "source": [
    "pitchActual = computeToothIdAndSide(pitchActual)"
   ]
  },
  {
   "cell_type": "markdown",
   "metadata": {},
   "source": [
    "We are interested in the involutes to the base circle passing through the pitch points. The involute curves will be of two types depending on the flank side (left or right). Now we compute the angles of the base circle points the involutes start at."
   ]
  },
  {
   "cell_type": "code",
   "execution_count": 22,
   "metadata": {},
   "outputs": [],
   "source": [
    "def computeInvoluteStartAngle(frame):\n",
    "    frame['involute_start_angle'] = 0\n",
    "    frame.loc[frame['side'] == 'right', 'involute_start_angle'] = \\\n",
    "    -0.5 * np.pi / z - x * m * np.tan(alpha) / r - (np.tan(alpha) - alpha) + 2 * np.pi * frame['computed_tooth_id'] / z\n",
    "    frame.loc[frame['side'] == 'left', 'involute_start_angle'] = \\\n",
    "    0.5 * np.pi / z + x * m * np.tan(alpha) / r + (np.tan(alpha) - alpha) + 2 * np.pi * frame['computed_tooth_id'] / z\n",
    "    frame['involute_start_x'] = rb * np.cos(frame['involute_start_angle'])\n",
    "    frame['involute_start_y'] = rb * np.sin(frame['involute_start_angle'])\n",
    "    return frame"
   ]
  },
  {
   "cell_type": "code",
   "execution_count": 23,
   "metadata": {},
   "outputs": [],
   "source": [
    "pitchActual = computeInvoluteStartAngle(pitchActual)"
   ]
  },
  {
   "cell_type": "markdown",
   "metadata": {},
   "source": [
    "The graph showing the starting points for our involutes (these points lie on the base circle):"
   ]
  },
  {
   "cell_type": "code",
   "execution_count": 24,
   "metadata": {},
   "outputs": [
    {
     "data": {
      "text/plain": [
       "<seaborn.axisgrid.FacetGrid at 0x7f8c057b3340>"
      ]
     },
     "execution_count": 24,
     "metadata": {},
     "output_type": "execute_result"
    },
    {
     "data": {
      "image/png": "[encoded data removed]",
      "text/plain": [
       "<Figure size 425.725x360 with 1 Axes>"
      ]
     },
     "metadata": {
      "needs_background": "light"
     },
     "output_type": "display_data"
    }
   ],
   "source": [
    "sns.relplot(kind='scatter', x='involute_start_x', y='involute_start_y', hue='side', data=pitchActual)"
   ]
  },
  {
   "cell_type": "markdown",
   "metadata": {},
   "source": [
    "Let's draw the input pitch points we loaded at the start:"
   ]
  },
  {
   "cell_type": "code",
   "execution_count": 25,
   "metadata": {},
   "outputs": [
    {
     "data": {
      "text/plain": [
       "<seaborn.axisgrid.FacetGrid at 0x7f8c05f29340>"
      ]
     },
     "execution_count": 25,
     "metadata": {},
     "output_type": "execute_result"
    },
    {
     "data": {
      "image/png": "[encoded data removed]",
      "text/plain": [
       "<Figure size 425.725x360 with 1 Axes>"
      ]
     },
     "metadata": {
      "needs_background": "light"
     },
     "output_type": "display_data"
    }
   ],
   "source": [
    "sns.relplot(kind='scatter', x='x', y='y', hue='side', data=pitchActual)"
   ]
  },
  {
   "cell_type": "code",
   "execution_count": 26,
   "metadata": {},
   "outputs": [
    {
     "data": {
      "text/plain": [
       "30.488025604609053"
      ]
     },
     "execution_count": 26,
     "metadata": {},
     "output_type": "execute_result"
    }
   ],
   "source": [
    "rb"
   ]
  },
  {
   "cell_type": "markdown",
   "metadata": {},
   "source": [
    "### Finding the needed involutes"
   ]
  },
  {
   "cell_type": "markdown",
   "metadata": {},
   "source": [
    "Let's implement a function for the involute curve built for a circle with the radius rb. The tau parameter means the angle at which the involute starts and corresponds to a point on the base circle."
   ]
  },
  {
   "cell_type": "markdown",
   "metadata": {},
   "source": [
    "The involute is parameterized with the parameter t. Let's explain its meaning. For a given point on the involute, we build a tangent to the base circle. t is the polar angle at which the base circle is touched by the tangent. For a right involute, t >= tau, for a left one t <= tau."
   ]
  },
  {
   "cell_type": "code",
   "execution_count": 27,
   "metadata": {},
   "outputs": [],
   "source": [
    "def involute(t, rb, tau=0.0):\n",
    "    if type(t) == np.ndarray and len(t.shape) == 2:\n",
    "        t = np.array(t).reshape((1, t.shape[0], t.shape[1]))\n",
    "    else:\n",
    "        t = np.array(t).reshape((1, np.array(t).size, 1))\n",
    "    tau = np.array(tau).reshape((1, 1, np.array(tau).size))\n",
    "    return np.concatenate((rb * np.cos(t) + rb * (t - tau) * np.sin(t),\n",
    "                     rb * np.sin(t) - rb * (t - tau) * np.cos(t)), axis=0)"
   ]
  },
  {
   "cell_type": "code",
   "execution_count": 28,
   "metadata": {},
   "outputs": [
    {
     "data": {
      "text/plain": [
       "0     0.193226\n",
       "1     0.764425\n",
       "2     1.335624\n",
       "3     1.906822\n",
       "4     2.478021\n",
       "5     3.049220\n",
       "6     3.620418\n",
       "7     4.191617\n",
       "8     4.762816\n",
       "9     5.334014\n",
       "10    5.905213\n",
       "11   -0.193226\n",
       "12    0.377972\n",
       "13    0.949171\n",
       "14    1.520370\n",
       "15    2.091568\n",
       "16    2.662767\n",
       "17    3.233966\n",
       "18    3.805164\n",
       "19    4.376363\n",
       "20    4.947562\n",
       "21    5.518760\n",
       "Name: involute_start_angle, dtype: float64"
      ]
     },
     "execution_count": 28,
     "metadata": {},
     "output_type": "execute_result"
    }
   ],
   "source": [
    "pitchActual['involute_start_angle']"
   ]
  },
  {
   "cell_type": "code",
   "execution_count": 29,
   "metadata": {},
   "outputs": [],
   "source": [
    "tau = pitchActual['involute_start_angle'].to_numpy()\n",
    "localAngleRangeSign = np.ones((1, tau.shape[0]))\n",
    "localAngleRangeSign = localAngleRangeSign - 2 * (pitchActual['side'] == 'left').to_numpy()"
   ]
  },
  {
   "cell_type": "code",
   "execution_count": 30,
   "metadata": {},
   "outputs": [
    {
     "data": {
      "text/plain": [
       "array([[-1., -1., -1., -1., -1., -1., -1., -1., -1., -1., -1.,  1.,  1.,\n",
       "         1.,  1.,  1.,  1.,  1.,  1.,  1.,  1.,  1.]])"
      ]
     },
     "execution_count": 30,
     "metadata": {},
     "output_type": "execute_result"
    }
   ],
   "source": [
    "localAngleRangeSign"
   ]
  },
  {
   "cell_type": "code",
   "execution_count": 31,
   "metadata": {},
   "outputs": [],
   "source": [
    "angles = (np.linspace(start=0.0, stop=0.2 * np.pi, num=20).reshape((-1, 1)) * localAngleRangeSign \n",
    "          + tau.reshape((1,-1)))"
   ]
  },
  {
   "cell_type": "code",
   "execution_count": 32,
   "metadata": {},
   "outputs": [
    {
     "data": {
      "text/plain": [
       "(20, 22)"
      ]
     },
     "execution_count": 32,
     "metadata": {},
     "output_type": "execute_result"
    }
   ],
   "source": [
    "angles.shape"
   ]
  },
  {
   "cell_type": "code",
   "execution_count": 33,
   "metadata": {},
   "outputs": [],
   "source": [
    "allInvolutes = involute(angles, rb=rb, tau=pitchActual['involute_start_angle'])"
   ]
  },
  {
   "cell_type": "code",
   "execution_count": 34,
   "metadata": {},
   "outputs": [
    {
     "data": {
      "text/plain": [
       "(2, 20, 22)"
      ]
     },
     "execution_count": 34,
     "metadata": {},
     "output_type": "execute_result"
    }
   ],
   "source": [
    "allInvolutes.shape"
   ]
  },
  {
   "cell_type": "code",
   "execution_count": 35,
   "metadata": {},
   "outputs": [],
   "source": [
    "involutePoints = allInvolutes.reshape((2, allInvolutes.shape[1] * allInvolutes.shape[2]))\n",
    "involutePoints = pd.DataFrame.from_dict({'x': involutePoints[0,:], 'y': involutePoints[1,:]})"
   ]
  },
  {
   "cell_type": "code",
   "execution_count": 36,
   "metadata": {},
   "outputs": [
    {
     "data": {
      "text/plain": [
       "<seaborn.axisgrid.FacetGrid at 0x7f8c02fe3b50>"
      ]
     },
     "execution_count": 36,
     "metadata": {},
     "output_type": "execute_result"
    },
    {
     "data": {
      "image/png": "[encoded data removed]",
      "text/plain": [
       "<Figure size 360x360 with 1 Axes>"
      ]
     },
     "metadata": {
      "needs_background": "light"
     },
     "output_type": "display_data"
    }
   ],
   "source": [
    "sns.relplot(kind='scatter', x='x', y='y', data=involutePoints)"
   ]
  },
  {
   "cell_type": "code",
   "execution_count": null,
   "metadata": {},
   "outputs": [],
   "source": []
  },
  {
   "cell_type": "code",
   "execution_count": null,
   "metadata": {},
   "outputs": [],
   "source": []
  },
  {
   "cell_type": "code",
   "execution_count": 37,
   "metadata": {},
   "outputs": [
    {
     "data": {
      "text/plain": [
       "30.488025604609053"
      ]
     },
     "execution_count": 37,
     "metadata": {},
     "output_type": "execute_result"
    }
   ],
   "source": [
    "rb"
   ]
  },
  {
   "cell_type": "markdown",
   "metadata": {},
   "source": [
    "### Involutes passing through the pitch points"
   ]
  },
  {
   "cell_type": "code",
   "execution_count": 53,
   "metadata": {},
   "outputs": [],
   "source": [
    "def chooseInvolute(frame, rb):\n",
    "    x = frame['x'].to_numpy().reshape((1, -1))\n",
    "    y = frame['y'].to_numpy().reshape((1, -1))\n",
    "    isLeft = (frame['side'] == 'left').to_numpy().astype(np.int32).reshape((1, -1))\n",
    "    \n",
    "    print(\"x: {}, y: {}, isLeft: {}\".format(x, y, isLeft))\n",
    "    \n",
    "    #tangentPointAngle = (np.arccos(x / np.sqrt(x ** 2 + y ** 2))\n",
    "    tangentPointAngle = (np.arctan2(y, x)\n",
    "                        + ((-1) * isLeft + (1 - isLeft)) * \n",
    "                         np.arccos(rb / np.sqrt(x ** 2 + y ** 2))).reshape((1, -1))\n",
    "                        #+ np.arccos(rb / np.sqrt(x ** 2 + y ** 2))).reshape((1, -1))\n",
    "    \n",
    "    print(\"np.arctan2(y, x) = {}\".format(np.arctan2(y, x)))\n",
    "    print(\"np.arccos(rb / np.sqrt(x ** 2 + y ** 2))).reshape((1, -1) = {}\"\n",
    "          .format(np.arccos(rb / np.sqrt(x ** 2 + y ** 2)).reshape((1, -1))))\n",
    "    \n",
    "    print(\"tangentPointAngle: {}\".format(tangentPointAngle.shape))\n",
    "    \n",
    "    tangentPoint = np.concatenate((rb * np.cos(tangentPointAngle), rb * np.sin(tangentPointAngle)), axis=0)\n",
    "    print(\"tangentPoint: {}\".format(tangentPoint.shape))\n",
    "    involutePoint = np.concatenate((x, y), axis=0)\n",
    "    print(\"involutePoint: {}\".format(involutePoint.shape))\n",
    "    tangent = np.concatenate((-np.sin(tangentPointAngle), np.cos(tangentPointAngle)), axis=0)\n",
    "    print(\"tangent: {}\".format(tangent.shape))\n",
    "    signedDistance = ((tangentPoint - involutePoint) * tangent).sum(axis=0, keepdims=True)\n",
    "    print(\"signedDistance: {}\".format(signedDistance.shape))\n",
    "    print(\"np.true_divide(signedDistance, rb): {}\".format(np.true_divide(signedDistance, rb).shape))\n",
    "    \n",
    "    print(\"signedDistance: {}\".format(signedDistance))\n",
    "    print(\"tangentPointAngle: {}\".format(tangentPointAngle))\n",
    "    print(\"angle2: {}\".format(np.true_divide(signedDistance, rb)))\n",
    "    \n",
    "    frame['computed_involute_start_angle'] = (tangentPointAngle - np.true_divide(signedDistance, rb)).ravel() \n",
    "    \n",
    "    return frame"
   ]
  },
  {
   "cell_type": "code",
   "execution_count": 54,
   "metadata": {},
   "outputs": [
    {
     "name": "stdout",
     "output_type": "stream",
     "text": [
      "x: [[ 32.5052    24.24       8.25921  -10.3488   -25.6495   -32.8012\n",
      "  -29.5619   -16.9714     0.991406  18.6578    30.4142    32.5022\n",
      "   30.4152    18.6489     0.96078  -17.0167   -29.5869   -32.7963\n",
      "  -25.6271   -10.3407     8.25335   24.231   ]], y: [[  5.69354  22.3926   31.95     31.3357   20.7635    3.61956 -14.6665\n",
      "  -28.3015  -32.9851  -27.2192  -12.8053   -5.71058  12.8029   27.2253\n",
      "   32.986    28.2742   14.6157   -3.66165 -20.7909  -31.3383  -31.9515\n",
      "  -22.4025 ]], isLeft: [[1 1 1 1 1 1 1 1 1 1 1 0 0 0 0 0 0 0 0 0 0 0]]\n",
      "np.arctan2(y, x) = [[ 0.17339879  0.74580281  1.31782984  1.88977464  2.4610804   3.0316889\n",
      "  -2.68104707 -2.11096897 -1.5407492  -0.96989237 -0.39850348 -0.1739231\n",
      "   0.3984247   0.97021934  1.54167766  2.11257171  2.68276277 -3.03040486\n",
      "  -2.46000797 -1.88951687 -1.31801314 -0.74620823]]\n",
      "np.arccos(rb / np.sqrt(x ** 2 + y ** 2))).reshape((1, -1) = [[0.3927039  0.3927058  0.3927179  0.39272533 0.39272093 0.3927211\n",
      "  0.39271247 0.39270268 0.39269868 0.39269717 0.39269819 0.39270313\n",
      "  0.39269749 0.39269726 0.39269822 0.3926973  0.3927027  0.39270451\n",
      "  0.39270984 0.3927202  0.39271689 0.39271382]]\n",
      "tangentPointAngle: (1, 22)\n",
      "tangentPoint: (2, 22)\n",
      "involutePoint: (2, 22)\n",
      "tangent: (2, 22)\n",
      "signedDistance: (1, 22)\n",
      "np.true_divide(signedDistance, rb): (1, 22)\n",
      "signedDistance: [[-1.26287260e+01 -1.26287937e+01 -1.26292258e+01 -1.26294913e+01\n",
      "  -1.26293340e+01 -1.26293401e+01 -1.26290320e+01 -1.26286822e+01\n",
      "  -1.26285392e+01 -1.26284854e+01 -1.26285219e+01 -6.66133815e-16\n",
      "  -6.66133815e-16 -3.33066907e-15 -2.17881269e-15 -2.22044605e-15\n",
      "  -3.21964677e-15 -1.27675648e-15 -4.44089210e-16 -1.88737914e-15\n",
      "   2.33146835e-15 -1.77635684e-15]]\n",
      "tangentPointAngle: [[-0.21930511  0.35309701  0.92511194  1.49704931  2.06835947  2.63896781\n",
      "  -3.07375954 -2.50367165 -1.93344787 -1.36258954 -0.79120167 -0.1739231\n",
      "   0.3984247   0.97021934  1.54167766  2.11257171  2.68276277 -3.03040486\n",
      "  -2.46000797 -1.88951687 -1.31801314 -0.74620823]]\n",
      "angle2: [[-4.14219213e-01 -4.14221433e-01 -4.14235608e-01 -4.14244316e-01\n",
      "  -4.14239156e-01 -4.14239355e-01 -4.14229250e-01 -4.14217778e-01\n",
      "  -4.14213087e-01 -4.14211323e-01 -4.14212518e-01 -2.18490309e-17\n",
      "  -2.18490309e-17 -1.09245155e-16 -7.14645387e-17 -7.28301031e-17\n",
      "  -1.05603650e-16 -4.18773093e-17 -1.45660206e-17 -6.19055877e-17\n",
      "   7.64716083e-17 -5.82640825e-17]]\n"
     ]
    },
    {
     "data": {
      "text/html": [
       "<div>\n",
       "<style scoped>\n",
       "    .dataframe tbody tr th:only-of-type {\n",
       "        vertical-align: middle;\n",
       "    }\n",
       "\n",
       "    .dataframe tbody tr th {\n",
       "        vertical-align: top;\n",
       "    }\n",
       "\n",
       "    .dataframe thead th {\n",
       "        text-align: right;\n",
       "    }\n",
       "</style>\n",
       "<table border=\"1\" class=\"dataframe\">\n",
       "  <thead>\n",
       "    <tr style=\"text-align: right;\">\n",
       "      <th></th>\n",
       "      <th>x</th>\n",
       "      <th>y</th>\n",
       "      <th>source</th>\n",
       "      <th>side</th>\n",
       "      <th>angle</th>\n",
       "      <th>distance</th>\n",
       "      <th>computed_tooth_id</th>\n",
       "      <th>computed_side</th>\n",
       "      <th>involute_start_angle</th>\n",
       "      <th>involute_start_x</th>\n",
       "      <th>involute_start_y</th>\n",
       "      <th>computed_involute_start_angle</th>\n",
       "    </tr>\n",
       "  </thead>\n",
       "  <tbody>\n",
       "    <tr>\n",
       "      <th>0</th>\n",
       "      <td>32.505200</td>\n",
       "      <td>5.69354</td>\n",
       "      <td>actual</td>\n",
       "      <td>left</td>\n",
       "      <td>0.173399</td>\n",
       "      <td>33.000067</td>\n",
       "      <td>0</td>\n",
       "      <td>left</td>\n",
       "      <td>0.193226</td>\n",
       "      <td>29.920638</td>\n",
       "      <td>5.854496</td>\n",
       "      <td>0.194914</td>\n",
       "    </tr>\n",
       "    <tr>\n",
       "      <th>1</th>\n",
       "      <td>24.240000</td>\n",
       "      <td>22.39260</td>\n",
       "      <td>actual</td>\n",
       "      <td>left</td>\n",
       "      <td>0.745803</td>\n",
       "      <td>33.000093</td>\n",
       "      <td>1</td>\n",
       "      <td>left</td>\n",
       "      <td>0.764425</td>\n",
       "      <td>22.005663</td>\n",
       "      <td>21.101434</td>\n",
       "      <td>0.767318</td>\n",
       "    </tr>\n",
       "    <tr>\n",
       "      <th>2</th>\n",
       "      <td>8.259210</td>\n",
       "      <td>31.95000</td>\n",
       "      <td>actual</td>\n",
       "      <td>left</td>\n",
       "      <td>1.317830</td>\n",
       "      <td>33.000258</td>\n",
       "      <td>2</td>\n",
       "      <td>left</td>\n",
       "      <td>1.335624</td>\n",
       "      <td>7.104045</td>\n",
       "      <td>29.648815</td>\n",
       "      <td>1.339348</td>\n",
       "    </tr>\n",
       "    <tr>\n",
       "      <th>3</th>\n",
       "      <td>-10.348800</td>\n",
       "      <td>31.33570</td>\n",
       "      <td>actual</td>\n",
       "      <td>left</td>\n",
       "      <td>1.889775</td>\n",
       "      <td>33.000360</td>\n",
       "      <td>3</td>\n",
       "      <td>left</td>\n",
       "      <td>1.906822</td>\n",
       "      <td>-10.053057</td>\n",
       "      <td>28.782907</td>\n",
       "      <td>1.911294</td>\n",
       "    </tr>\n",
       "    <tr>\n",
       "      <th>4</th>\n",
       "      <td>-25.649500</td>\n",
       "      <td>20.76350</td>\n",
       "      <td>actual</td>\n",
       "      <td>left</td>\n",
       "      <td>2.461080</td>\n",
       "      <td>33.000300</td>\n",
       "      <td>4</td>\n",
       "      <td>left</td>\n",
       "      <td>2.478021</td>\n",
       "      <td>-24.018384</td>\n",
       "      <td>18.778630</td>\n",
       "      <td>2.482599</td>\n",
       "    </tr>\n",
       "    <tr>\n",
       "      <th>5</th>\n",
       "      <td>-32.801200</td>\n",
       "      <td>3.61956</td>\n",
       "      <td>actual</td>\n",
       "      <td>left</td>\n",
       "      <td>3.031689</td>\n",
       "      <td>33.000302</td>\n",
       "      <td>5</td>\n",
       "      <td>left</td>\n",
       "      <td>3.049220</td>\n",
       "      <td>-30.358044</td>\n",
       "      <td>2.812270</td>\n",
       "      <td>3.053207</td>\n",
       "    </tr>\n",
       "    <tr>\n",
       "      <th>6</th>\n",
       "      <td>-29.561900</td>\n",
       "      <td>-14.66650</td>\n",
       "      <td>actual</td>\n",
       "      <td>left</td>\n",
       "      <td>3.602138</td>\n",
       "      <td>33.000184</td>\n",
       "      <td>6</td>\n",
       "      <td>left</td>\n",
       "      <td>3.620418</td>\n",
       "      <td>-27.059240</td>\n",
       "      <td>-14.046966</td>\n",
       "      <td>-2.659530</td>\n",
       "    </tr>\n",
       "    <tr>\n",
       "      <th>7</th>\n",
       "      <td>-16.971400</td>\n",
       "      <td>-28.30150</td>\n",
       "      <td>actual</td>\n",
       "      <td>left</td>\n",
       "      <td>4.172216</td>\n",
       "      <td>33.000050</td>\n",
       "      <td>7</td>\n",
       "      <td>left</td>\n",
       "      <td>4.191617</td>\n",
       "      <td>-15.169318</td>\n",
       "      <td>-26.446389</td>\n",
       "      <td>-2.089454</td>\n",
       "    </tr>\n",
       "    <tr>\n",
       "      <th>8</th>\n",
       "      <td>0.991406</td>\n",
       "      <td>-32.98510</td>\n",
       "      <td>actual</td>\n",
       "      <td>left</td>\n",
       "      <td>4.742436</td>\n",
       "      <td>32.999996</td>\n",
       "      <td>8</td>\n",
       "      <td>left</td>\n",
       "      <td>4.762816</td>\n",
       "      <td>1.536755</td>\n",
       "      <td>-30.449271</td>\n",
       "      <td>-1.519235</td>\n",
       "    </tr>\n",
       "    <tr>\n",
       "      <th>9</th>\n",
       "      <td>18.657800</td>\n",
       "      <td>-27.21920</td>\n",
       "      <td>actual</td>\n",
       "      <td>left</td>\n",
       "      <td>5.313293</td>\n",
       "      <td>32.999975</td>\n",
       "      <td>9</td>\n",
       "      <td>left</td>\n",
       "      <td>5.334014</td>\n",
       "      <td>17.754919</td>\n",
       "      <td>-24.784724</td>\n",
       "      <td>-0.948378</td>\n",
       "    </tr>\n",
       "    <tr>\n",
       "      <th>10</th>\n",
       "      <td>30.414200</td>\n",
       "      <td>-12.80530</td>\n",
       "      <td>actual</td>\n",
       "      <td>left</td>\n",
       "      <td>5.884682</td>\n",
       "      <td>32.999989</td>\n",
       "      <td>10</td>\n",
       "      <td>left</td>\n",
       "      <td>5.905213</td>\n",
       "      <td>28.336022</td>\n",
       "      <td>-11.251203</td>\n",
       "      <td>-0.376989</td>\n",
       "    </tr>\n",
       "    <tr>\n",
       "      <th>11</th>\n",
       "      <td>32.502200</td>\n",
       "      <td>-5.71058</td>\n",
       "      <td>actual</td>\n",
       "      <td>right</td>\n",
       "      <td>6.109262</td>\n",
       "      <td>33.000056</td>\n",
       "      <td>0</td>\n",
       "      <td>right</td>\n",
       "      <td>-0.193226</td>\n",
       "      <td>29.920638</td>\n",
       "      <td>-5.854496</td>\n",
       "      <td>-0.173923</td>\n",
       "    </tr>\n",
       "    <tr>\n",
       "      <th>12</th>\n",
       "      <td>30.415200</td>\n",
       "      <td>12.80290</td>\n",
       "      <td>actual</td>\n",
       "      <td>right</td>\n",
       "      <td>0.398425</td>\n",
       "      <td>32.999979</td>\n",
       "      <td>1</td>\n",
       "      <td>right</td>\n",
       "      <td>0.377972</td>\n",
       "      <td>28.336022</td>\n",
       "      <td>11.251203</td>\n",
       "      <td>0.398425</td>\n",
       "    </tr>\n",
       "    <tr>\n",
       "      <th>13</th>\n",
       "      <td>18.648900</td>\n",
       "      <td>27.22530</td>\n",
       "      <td>actual</td>\n",
       "      <td>right</td>\n",
       "      <td>0.970219</td>\n",
       "      <td>32.999976</td>\n",
       "      <td>2</td>\n",
       "      <td>right</td>\n",
       "      <td>0.949171</td>\n",
       "      <td>17.754919</td>\n",
       "      <td>24.784724</td>\n",
       "      <td>0.970219</td>\n",
       "    </tr>\n",
       "    <tr>\n",
       "      <th>14</th>\n",
       "      <td>0.960780</td>\n",
       "      <td>32.98600</td>\n",
       "      <td>actual</td>\n",
       "      <td>right</td>\n",
       "      <td>1.541678</td>\n",
       "      <td>32.999989</td>\n",
       "      <td>3</td>\n",
       "      <td>right</td>\n",
       "      <td>1.520370</td>\n",
       "      <td>1.536755</td>\n",
       "      <td>30.449271</td>\n",
       "      <td>1.541678</td>\n",
       "    </tr>\n",
       "    <tr>\n",
       "      <th>15</th>\n",
       "      <td>-17.016700</td>\n",
       "      <td>28.27420</td>\n",
       "      <td>actual</td>\n",
       "      <td>right</td>\n",
       "      <td>2.112572</td>\n",
       "      <td>32.999977</td>\n",
       "      <td>4</td>\n",
       "      <td>right</td>\n",
       "      <td>2.091568</td>\n",
       "      <td>-15.169318</td>\n",
       "      <td>26.446389</td>\n",
       "      <td>2.112572</td>\n",
       "    </tr>\n",
       "    <tr>\n",
       "      <th>16</th>\n",
       "      <td>-29.586900</td>\n",
       "      <td>14.61570</td>\n",
       "      <td>actual</td>\n",
       "      <td>right</td>\n",
       "      <td>2.682763</td>\n",
       "      <td>33.000051</td>\n",
       "      <td>5</td>\n",
       "      <td>right</td>\n",
       "      <td>2.662767</td>\n",
       "      <td>-27.059240</td>\n",
       "      <td>14.046966</td>\n",
       "      <td>2.682763</td>\n",
       "    </tr>\n",
       "    <tr>\n",
       "      <th>17</th>\n",
       "      <td>-32.796300</td>\n",
       "      <td>-3.66165</td>\n",
       "      <td>actual</td>\n",
       "      <td>right</td>\n",
       "      <td>3.252780</td>\n",
       "      <td>33.000075</td>\n",
       "      <td>6</td>\n",
       "      <td>right</td>\n",
       "      <td>3.233966</td>\n",
       "      <td>-30.358044</td>\n",
       "      <td>-2.812270</td>\n",
       "      <td>-3.030405</td>\n",
       "    </tr>\n",
       "    <tr>\n",
       "      <th>18</th>\n",
       "      <td>-25.627100</td>\n",
       "      <td>-20.79090</td>\n",
       "      <td>actual</td>\n",
       "      <td>right</td>\n",
       "      <td>3.823177</td>\n",
       "      <td>33.000148</td>\n",
       "      <td>7</td>\n",
       "      <td>right</td>\n",
       "      <td>3.805164</td>\n",
       "      <td>-24.018384</td>\n",
       "      <td>-18.778630</td>\n",
       "      <td>-2.460008</td>\n",
       "    </tr>\n",
       "    <tr>\n",
       "      <th>19</th>\n",
       "      <td>-10.340700</td>\n",
       "      <td>-31.33830</td>\n",
       "      <td>actual</td>\n",
       "      <td>right</td>\n",
       "      <td>4.393668</td>\n",
       "      <td>33.000290</td>\n",
       "      <td>8</td>\n",
       "      <td>right</td>\n",
       "      <td>4.376363</td>\n",
       "      <td>-10.053057</td>\n",
       "      <td>-28.782907</td>\n",
       "      <td>-1.889517</td>\n",
       "    </tr>\n",
       "    <tr>\n",
       "      <th>20</th>\n",
       "      <td>8.253350</td>\n",
       "      <td>-31.95150</td>\n",
       "      <td>actual</td>\n",
       "      <td>right</td>\n",
       "      <td>4.965172</td>\n",
       "      <td>33.000245</td>\n",
       "      <td>9</td>\n",
       "      <td>right</td>\n",
       "      <td>4.947562</td>\n",
       "      <td>7.104045</td>\n",
       "      <td>-29.648815</td>\n",
       "      <td>-1.318013</td>\n",
       "    </tr>\n",
       "    <tr>\n",
       "      <th>21</th>\n",
       "      <td>24.231000</td>\n",
       "      <td>-22.40250</td>\n",
       "      <td>actual</td>\n",
       "      <td>right</td>\n",
       "      <td>5.536977</td>\n",
       "      <td>33.000203</td>\n",
       "      <td>10</td>\n",
       "      <td>right</td>\n",
       "      <td>5.518760</td>\n",
       "      <td>22.005663</td>\n",
       "      <td>-21.101434</td>\n",
       "      <td>-0.746208</td>\n",
       "    </tr>\n",
       "  </tbody>\n",
       "</table>\n",
       "</div>"
      ],
      "text/plain": [
       "            x         y  source   side     angle   distance  \\\n",
       "0   32.505200   5.69354  actual   left  0.173399  33.000067   \n",
       "1   24.240000  22.39260  actual   left  0.745803  33.000093   \n",
       "2    8.259210  31.95000  actual   left  1.317830  33.000258   \n",
       "3  -10.348800  31.33570  actual   left  1.889775  33.000360   \n",
       "4  -25.649500  20.76350  actual   left  2.461080  33.000300   \n",
       "5  -32.801200   3.61956  actual   left  3.031689  33.000302   \n",
       "6  -29.561900 -14.66650  actual   left  3.602138  33.000184   \n",
       "7  -16.971400 -28.30150  actual   left  4.172216  33.000050   \n",
       "8    0.991406 -32.98510  actual   left  4.742436  32.999996   \n",
       "9   18.657800 -27.21920  actual   left  5.313293  32.999975   \n",
       "10  30.414200 -12.80530  actual   left  5.884682  32.999989   \n",
       "11  32.502200  -5.71058  actual  right  6.109262  33.000056   \n",
       "12  30.415200  12.80290  actual  right  0.398425  32.999979   \n",
       "13  18.648900  27.22530  actual  right  0.970219  32.999976   \n",
       "14   0.960780  32.98600  actual  right  1.541678  32.999989   \n",
       "15 -17.016700  28.27420  actual  right  2.112572  32.999977   \n",
       "16 -29.586900  14.61570  actual  right  2.682763  33.000051   \n",
       "17 -32.796300  -3.66165  actual  right  3.252780  33.000075   \n",
       "18 -25.627100 -20.79090  actual  right  3.823177  33.000148   \n",
       "19 -10.340700 -31.33830  actual  right  4.393668  33.000290   \n",
       "20   8.253350 -31.95150  actual  right  4.965172  33.000245   \n",
       "21  24.231000 -22.40250  actual  right  5.536977  33.000203   \n",
       "\n",
       "    computed_tooth_id computed_side  involute_start_angle  involute_start_x  \\\n",
       "0                   0          left              0.193226         29.920638   \n",
       "1                   1          left              0.764425         22.005663   \n",
       "2                   2          left              1.335624          7.104045   \n",
       "3                   3          left              1.906822        -10.053057   \n",
       "4                   4          left              2.478021        -24.018384   \n",
       "5                   5          left              3.049220        -30.358044   \n",
       "6                   6          left              3.620418        -27.059240   \n",
       "7                   7          left              4.191617        -15.169318   \n",
       "8                   8          left              4.762816          1.536755   \n",
       "9                   9          left              5.334014         17.754919   \n",
       "10                 10          left              5.905213         28.336022   \n",
       "11                  0         right             -0.193226         29.920638   \n",
       "12                  1         right              0.377972         28.336022   \n",
       "13                  2         right              0.949171         17.754919   \n",
       "14                  3         right              1.520370          1.536755   \n",
       "15                  4         right              2.091568        -15.169318   \n",
       "16                  5         right              2.662767        -27.059240   \n",
       "17                  6         right              3.233966        -30.358044   \n",
       "18                  7         right              3.805164        -24.018384   \n",
       "19                  8         right              4.376363        -10.053057   \n",
       "20                  9         right              4.947562          7.104045   \n",
       "21                 10         right              5.518760         22.005663   \n",
       "\n",
       "    involute_start_y  computed_involute_start_angle  \n",
       "0           5.854496                       0.194914  \n",
       "1          21.101434                       0.767318  \n",
       "2          29.648815                       1.339348  \n",
       "3          28.782907                       1.911294  \n",
       "4          18.778630                       2.482599  \n",
       "5           2.812270                       3.053207  \n",
       "6         -14.046966                      -2.659530  \n",
       "7         -26.446389                      -2.089454  \n",
       "8         -30.449271                      -1.519235  \n",
       "9         -24.784724                      -0.948378  \n",
       "10        -11.251203                      -0.376989  \n",
       "11         -5.854496                      -0.173923  \n",
       "12         11.251203                       0.398425  \n",
       "13         24.784724                       0.970219  \n",
       "14         30.449271                       1.541678  \n",
       "15         26.446389                       2.112572  \n",
       "16         14.046966                       2.682763  \n",
       "17         -2.812270                      -3.030405  \n",
       "18        -18.778630                      -2.460008  \n",
       "19        -28.782907                      -1.889517  \n",
       "20        -29.648815                      -1.318013  \n",
       "21        -21.101434                      -0.746208  "
      ]
     },
     "execution_count": 54,
     "metadata": {},
     "output_type": "execute_result"
    }
   ],
   "source": [
    "chooseInvolute(pitchActual, rb)"
   ]
  },
  {
   "cell_type": "code",
   "execution_count": 40,
   "metadata": {},
   "outputs": [
    {
     "data": {
      "text/plain": [
       "x                                 32.5052\n",
       "y                                 5.69354\n",
       "source                             actual\n",
       "side                                 left\n",
       "angle                            0.173399\n",
       "distance                          33.0001\n",
       "computed_tooth_id                       0\n",
       "computed_side                        left\n",
       "involute_start_angle             0.193226\n",
       "involute_start_x                  29.9206\n",
       "involute_start_y                   5.8545\n",
       "computed_involute_start_angle    0.151883\n",
       "Name: 0, dtype: object"
      ]
     },
     "execution_count": 40,
     "metadata": {},
     "output_type": "execute_result"
    }
   ],
   "source": [
    "pitchActual.iloc[0]"
   ]
  },
  {
   "cell_type": "code",
   "execution_count": 41,
   "metadata": {},
   "outputs": [
    {
     "name": "stdout",
     "output_type": "stream",
     "text": [
      "x: [[8.25335]], y: [[-31.9515]]\n",
      "np.arctan2(y, x) = [[-1.31801314]]\n",
      "np.arccos(rb / np.sqrt(x ** 2 + y ** 2))).reshape((1, -1) = [[0.39271689]]\n",
      "tangentPointAngle: (1, 1)\n",
      "tangentPoint: (2, 1)\n",
      "involutePoint: (2, 1)\n",
      "tangent: (2, 1)\n",
      "signedDistance: (1, 1)\n",
      "np.true_divide(signedDistance, rb): (1, 1)\n",
      "signedDistance: [[12.62918973]]\n",
      "tangentPointAngle: [[-0.92529625]]\n",
      "angle2: [[0.41423442]]\n"
     ]
    },
    {
     "data": {
      "text/html": [
       "<div>\n",
       "<style scoped>\n",
       "    .dataframe tbody tr th:only-of-type {\n",
       "        vertical-align: middle;\n",
       "    }\n",
       "\n",
       "    .dataframe tbody tr th {\n",
       "        vertical-align: top;\n",
       "    }\n",
       "\n",
       "    .dataframe thead th {\n",
       "        text-align: right;\n",
       "    }\n",
       "</style>\n",
       "<table border=\"1\" class=\"dataframe\">\n",
       "  <thead>\n",
       "    <tr style=\"text-align: right;\">\n",
       "      <th></th>\n",
       "      <th>x</th>\n",
       "      <th>y</th>\n",
       "      <th>source</th>\n",
       "      <th>side</th>\n",
       "      <th>angle</th>\n",
       "      <th>distance</th>\n",
       "      <th>computed_tooth_id</th>\n",
       "      <th>computed_side</th>\n",
       "      <th>involute_start_angle</th>\n",
       "      <th>involute_start_x</th>\n",
       "      <th>involute_start_y</th>\n",
       "      <th>computed_involute_start_angle</th>\n",
       "    </tr>\n",
       "  </thead>\n",
       "  <tbody>\n",
       "    <tr>\n",
       "      <th>20</th>\n",
       "      <td>8.25335</td>\n",
       "      <td>-31.9515</td>\n",
       "      <td>actual</td>\n",
       "      <td>right</td>\n",
       "      <td>4.965172</td>\n",
       "      <td>33.000245</td>\n",
       "      <td>9</td>\n",
       "      <td>right</td>\n",
       "      <td>4.947562</td>\n",
       "      <td>7.104045</td>\n",
       "      <td>-29.648815</td>\n",
       "      <td>-1.339531</td>\n",
       "    </tr>\n",
       "  </tbody>\n",
       "</table>\n",
       "</div>"
      ],
      "text/plain": [
       "          x        y  source   side     angle   distance  computed_tooth_id  \\\n",
       "20  8.25335 -31.9515  actual  right  4.965172  33.000245                  9   \n",
       "\n",
       "   computed_side  involute_start_angle  involute_start_x  involute_start_y  \\\n",
       "20         right              4.947562          7.104045        -29.648815   \n",
       "\n",
       "    computed_involute_start_angle  \n",
       "20                      -1.339531  "
      ]
     },
     "execution_count": 41,
     "metadata": {},
     "output_type": "execute_result"
    }
   ],
   "source": [
    "chooseInvolute(pitchActual.iloc[-2:-1].copy(), rb)"
   ]
  },
  {
   "cell_type": "code",
   "execution_count": 42,
   "metadata": {},
   "outputs": [
    {
     "data": {
      "text/plain": [
       "4.943685307179586"
      ]
     },
     "execution_count": 42,
     "metadata": {},
     "output_type": "execute_result"
    }
   ],
   "source": [
    "2 * np.pi - 1.3395"
   ]
  },
  {
   "cell_type": "code",
   "execution_count": null,
   "metadata": {},
   "outputs": [],
   "source": []
  },
  {
   "cell_type": "code",
   "execution_count": null,
   "metadata": {},
   "outputs": [],
   "source": []
  }
 ],
 "metadata": {
  "kernelspec": {
   "display_name": "Python 3",
   "language": "python",
   "name": "python3"
  },
  "language_info": {
   "codemirror_mode": {
    "name": "ipython",
    "version": 3
   },
   "file_extension": ".py",
   "mimetype": "text/x-python",
   "name": "python",
   "nbconvert_exporter": "python",
   "pygments_lexer": "ipython3",
   "version": "3.8.2"
  }
 },
 "nbformat": 4,
 "nbformat_minor": 2
}
